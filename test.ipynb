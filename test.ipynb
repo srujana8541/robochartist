{
 "cells": [
  {
   "cell_type": "code",
   "execution_count": 3,
   "metadata": {},
   "outputs": [
    {
     "name": "stdout",
     "output_type": "stream",
     "text": [
      "The roots of the equation are: (2+0j) and (1+0j)\n"
     ]
    }
   ],
   "source": [
    "import numpy as np\n",
    "\n",
    "import cmath\n",
    "\n",
    "def solve_quadratic(a, b, c):\n",
    "    \"\"\"\n",
    "    Solves the quadratic equation ax^2 + bx + c = 0.\n",
    "    \n",
    "    Parameters:\n",
    "    a (float): Coefficient of x^2\n",
    "    b (float): Coefficient of x\n",
    "    c (float): Constant term\n",
    "    \n",
    "    Returns:\n",
    "    tuple: A tuple containing the two solutions, which can be real or complex numbers.\n",
    "    \"\"\"\n",
    "    # Calculate the discriminant\n",
    "    discriminant = b**2 - 4*a*c\n",
    "    \n",
    "    # Calculate the two solutions\n",
    "    root1 = (-b + cmath.sqrt(discriminant)) / (2*a)\n",
    "    root2 = (-b - cmath.sqrt(discriminant)) / (2*a)\n",
    "    \n",
    "    return (root1, root2)\n",
    "\n",
    "# Example usage\n",
    "a = 1\n",
    "b = -3\n",
    "c = 2\n",
    "\n",
    "roots = solve_quadratic(a, b, c)\n",
    "print(f\"The roots of the equation are: {roots[0]} and {roots[1]}\")"
   ]
  },
  {
   "cell_type": "code",
   "execution_count": 4,
   "metadata": {},
   "outputs": [
    {
     "name": "stdout",
     "output_type": "stream",
     "text": [
      "Solution: [-2.  6.  5.]\n"
     ]
    }
   ],
   "source": [
    "import numpy as np\n",
    "\n",
    "def solve_3x3_equation(coefficients, constants):\n",
    "    \"\"\"\n",
    "    Solves a system of linear equations with 3 variables.\n",
    "    \n",
    "    Arguments:\n",
    "    coefficients -- a 3x3 list or numpy array representing the coefficients of the equations\n",
    "    constants -- a list or numpy array of length 3 representing the constants\n",
    "    \n",
    "    Returns:\n",
    "    A numpy array containing the values of x, y, z\n",
    "    \"\"\"\n",
    "    A = np.array(coefficients)\n",
    "    b = np.array(constants)\n",
    "    \n",
    "    # Check if the matrix A is invertible\n",
    "    if np.linalg.det(A) == 0:\n",
    "        raise ValueError(\"The coefficient matrix is singular and cannot be inverted.\")\n",
    "    \n",
    "    # Solve for x, y, z\n",
    "    solution = np.linalg.solve(A, b)\n",
    "    \n",
    "    return solution\n",
    "\n",
    "# Example usage:\n",
    "coefficients = [\n",
    "    [2, -1, 3],\n",
    "    [1,  0, 1],\n",
    "    [4,  1, 2]\n",
    "]\n",
    "constants = [5, 3, 8]\n",
    "\n",
    "solution = solve_3x3_equation(coefficients, constants)\n",
    "print(\"Solution:\", solution)"
   ]
  },
  {
   "cell_type": "code",
   "execution_count": 5,
   "metadata": {},
   "outputs": [
    {
     "name": "stdout",
     "output_type": "stream",
     "text": [
      "Solution: [3. 1.]\n"
     ]
    }
   ],
   "source": [
    "import numpy as np\n",
    "\n",
    "def solve_2x2_equation(coefficients, constants):\n",
    "    \"\"\"\n",
    "    Solves a system of linear equations with 3 variables.\n",
    "    \n",
    "    Arguments:\n",
    "    coefficients -- a 3x3 list or numpy array representing the coefficients of the equations\n",
    "    constants -- a list or numpy array of length 3 representing the constants\n",
    "    \n",
    "    Returns:\n",
    "    A numpy array containing the values of x, y, z\n",
    "    \"\"\"\n",
    "    A = np.array(coefficients)\n",
    "    b = np.array(constants)\n",
    "    \n",
    "    # Check if the matrix A is invertible\n",
    "    if np.linalg.det(A) == 0:\n",
    "        raise ValueError(\"The coefficient matrix is singular and cannot be inverted.\")\n",
    "    \n",
    "    # Solve for x, y, z\n",
    "    solution = np.linalg.solve(A, b)\n",
    "    \n",
    "    return solution\n",
    "\n",
    "# Example usage:\n",
    "coefficients = [\n",
    "    [2, -1],\n",
    "    [1,  0],\n",
    "\n",
    "]\n",
    "constants = [5, 3]\n",
    "\n",
    "solution = solve_2x2_equation(coefficients, constants)\n",
    "print(\"Solution:\", solution)"
   ]
  },
  {
   "cell_type": "code",
   "execution_count": 14,
   "metadata": {},
   "outputs": [
    {
     "name": "stdout",
     "output_type": "stream",
     "text": [
      "Solution: [0.79982722 0.30574184]\n"
     ]
    }
   ],
   "source": [
    "pa = 100/(1.03)**2\n",
    "pb = 100/(1.03)**10\n",
    "\n",
    "da = 1\n",
    "db = 5\n",
    "p = 98.1414507985948\n",
    "dp = 1.92723570430286\n",
    "\n",
    "coefficients = [\n",
    "    [pa, pb],\n",
    "    [pa*da,  pb*db],\n",
    "\n",
    "]\n",
    "constants = [p, dp*p]\n",
    "\n",
    "na, nb = solve_2x2_equation(coefficients, constants)\n",
    "print(\"Solution:\", solution)"
   ]
  },
  {
   "cell_type": "code",
   "execution_count": 18,
   "metadata": {},
   "outputs": [
    {
     "name": "stdout",
     "output_type": "stream",
     "text": [
      "1.4138938637006315 25.921387501178245\n"
     ]
    }
   ],
   "source": [
    "ca = ((1)*(1.5))/(1.03)**2\n",
    "cb = ((5)*(5.5))/(1.03)**2\n",
    "\n",
    "print(ca, cb)"
   ]
  },
  {
   "cell_type": "code",
   "execution_count": 16,
   "metadata": {},
   "outputs": [
    {
     "data": {
      "text/plain": [
       "7.094949644611735"
      ]
     },
     "execution_count": 16,
     "metadata": {},
     "output_type": "execute_result"
    }
   ],
   "source": [
    "(na*ca*pa + nb*cb*pb )/p"
   ]
  },
  {
   "cell_type": "code",
   "execution_count": 70,
   "metadata": {},
   "outputs": [
    {
     "data": {
      "text/plain": [
       "array([[0.055 , 0.071 , 0.087 ],\n",
       "       [0.    , 0.042 , 0.0575],\n",
       "       [0.    , 0.    , 0.031 ]])"
      ]
     },
     "execution_count": 70,
     "metadata": {},
     "output_type": "execute_result"
    }
   ],
   "source": [
    "rate_tree = np.array([[0.055, 0.071, 0.087],\n",
    "             [0, 0.042, 0.0575],\n",
    "             [0, 0, 0.031]])\n",
    "rate_tree"
   ]
  },
  {
   "cell_type": "code",
   "execution_count": 71,
   "metadata": {},
   "outputs": [
    {
     "data": {
      "text/plain": [
       "array([[0.84840326, 0.8709569 , 0.9199632 , 1.        ],\n",
       "       [0.        , 0.91917398, 0.94562648, 1.        ],\n",
       "       [0.        , 0.        , 0.9699321 , 1.        ],\n",
       "       [0.        , 0.        , 0.        , 1.        ]])"
      ]
     },
     "execution_count": 71,
     "metadata": {},
     "output_type": "execute_result"
    }
   ],
   "source": [
    "bp = np.zeros((4,4))\n",
    "bp[:, 3] = 1\n",
    "\n",
    "for i in range(2, -1, -1):\n",
    "    for j in range(i+1):\n",
    "        bp[j, i] = 0.5*(bp[j, i+1] + bp[j+1, i+1])/(1+rate_tree[j, i])\n",
    "bp"
   ]
  },
  {
   "cell_type": "code",
   "execution_count": 73,
   "metadata": {},
   "outputs": [
    {
     "data": {
      "text/plain": [
       "array([[0.89734584, 0.93370682, 1.        ],\n",
       "       [0.        , 0.9596929 , 1.        ],\n",
       "       [0.        , 0.        , 1.        ]])"
      ]
     },
     "execution_count": 73,
     "metadata": {},
     "output_type": "execute_result"
    }
   ],
   "source": [
    "bp = np.zeros((3,3))\n",
    "bp[:, 2] = 1\n",
    "\n",
    "for i in range(1, -1, -1):\n",
    "    for j in range(i+1):\n",
    "        bp[j, i] = 0.5*(bp[j, i+1] + bp[j+1, i+1])/(1+rate_tree[j, i])\n",
    "\n",
    "bp"
   ]
  },
  {
   "cell_type": "code",
   "execution_count": 79,
   "metadata": {},
   "outputs": [],
   "source": [
    "i = (93.27948 - 95.77793)/0.029\n",
    "\n"
   ]
  },
  {
   "cell_type": "code",
   "execution_count": 63,
   "metadata": {},
   "outputs": [
    {
     "data": {
      "text/plain": [
       "array([[  0.,  24.,  24., 224.],\n",
       "       [  0.,  24.,  24., 224.],\n",
       "       [  0.,   0.,  24., 224.],\n",
       "       [  0.,   0.,   0., 224.]])"
      ]
     },
     "execution_count": 63,
     "metadata": {},
     "output_type": "execute_result"
    }
   ],
   "source": [
    "\n",
    "c = 200*0.12\n",
    "payoff = np.ones((4,4))*c\n",
    "for i in range(4):\n",
    "    for j in range(4):\n",
    "        if i>j:\n",
    "            payoff[i,j]=0\n",
    "payoff[0,0]=0\n",
    "payoff[:,3] +=200\n",
    "payoff"
   ]
  },
  {
   "cell_type": "code",
   "execution_count": 64,
   "metadata": {},
   "outputs": [],
   "source": [
    "pv = np.zeros((4,4))\n",
    "\n",
    "for i in range(2, -1, -1):\n",
    "    for j in range(i+1):\n",
    "        pv[j, i] = 0.5*(pv[j, i+1] +payoff[j, i+1] + payoff[j+1, i+1] + pv[j+1, i+1])/(1+rate_tree[j, i])"
   ]
  },
  {
   "cell_type": "code",
   "execution_count": 65,
   "metadata": {},
   "outputs": [
    {
     "data": {
      "text/plain": [
       "array([[234.32744599, 217.5033091 , 206.07175713,   0.        ],\n",
       "       [  0.        , 228.92760194, 211.82033097,   0.        ],\n",
       "       [  0.        ,   0.        , 217.26479146,   0.        ],\n",
       "       [  0.        ,   0.        ,   0.        ,   0.        ]])"
      ]
     },
     "execution_count": 65,
     "metadata": {},
     "output_type": "execute_result"
    }
   ],
   "source": [
    "pv"
   ]
  },
  {
   "cell_type": "code",
   "execution_count": 80,
   "metadata": {},
   "outputs": [],
   "source": [
    "d = (pv[0,1]- pv[1,1])/(rate_tree[0,1]-rate_tree[1,1])"
   ]
  },
  {
   "cell_type": "code",
   "execution_count": 81,
   "metadata": {},
   "outputs": [
    {
     "data": {
      "text/plain": [
       "4.572552115299265"
      ]
     },
     "execution_count": 81,
     "metadata": {},
     "output_type": "execute_result"
    }
   ],
   "source": [
    "d/i"
   ]
  },
  {
   "cell_type": "code",
   "execution_count": 67,
   "metadata": {},
   "outputs": [
    {
     "data": {
      "text/plain": [
       "-393.9413793103454"
      ]
     },
     "execution_count": 67,
     "metadata": {},
     "output_type": "execute_result"
    }
   ],
   "source": [
    "(217.5033 - 228.9276)/(0.029)"
   ]
  },
  {
   "cell_type": "code",
   "execution_count": 72,
   "metadata": {},
   "outputs": [
    {
     "data": {
      "text/plain": [
       "array([[0.89734584, 0.93370682, 1.        ],\n",
       "       [0.        , 0.9596929 , 1.        ],\n",
       "       [0.        , 0.        , 1.        ]])"
      ]
     },
     "execution_count": 72,
     "metadata": {},
     "output_type": "execute_result"
    }
   ],
   "source": [
    "bp = np.zeros((3,3))\n",
    "bp[:, 2] = 1\n",
    "\n",
    "for i in range(1, -1, -1):\n",
    "    for j in range(i+1):\n",
    "        bp[j, i] = 0.5*(bp[j, i+1] + bp[j+1, i+1])/(1+rate_tree[j, i])\n",
    "\n",
    "bp"
   ]
  },
  {
   "cell_type": "code",
   "execution_count": 37,
   "metadata": {},
   "outputs": [
    {
     "data": {
      "text/plain": [
       "array([[0.89734584, 0.93370682, 1.        ],\n",
       "       [0.        , 0.9596929 , 1.        ],\n",
       "       [0.        , 0.        , 1.        ]])"
      ]
     },
     "execution_count": 37,
     "metadata": {},
     "output_type": "execute_result"
    }
   ],
   "source": [
    "bp"
   ]
  },
  {
   "cell_type": "code",
   "execution_count": 39,
   "metadata": {},
   "outputs": [
    {
     "data": {
      "text/plain": [
       "0.945458509062682"
      ]
     },
     "execution_count": 39,
     "metadata": {},
     "output_type": "execute_result"
    }
   ],
   "source": [
    "0.84840326/0.89734584"
   ]
  },
  {
   "cell_type": "code",
   "execution_count": 44,
   "metadata": {},
   "outputs": [
    {
     "data": {
      "text/plain": [
       "array([[0.84840326, 0.8709569 , 0.9199632 , 1.        ],\n",
       "       [0.        , 0.91917398, 0.94562648, 1.        ],\n",
       "       [0.        , 0.        , 0.9699321 , 1.        ],\n",
       "       [0.        , 0.        , 0.        , 1.        ]])"
      ]
     },
     "execution_count": 44,
     "metadata": {},
     "output_type": "execute_result"
    }
   ],
   "source": [
    "bp = np.zeros((4,4))\n",
    "bp[:, 3] = 1\n",
    "\n",
    "for i in range(2, -1, -1):\n",
    "    for j in range(i+1):\n",
    "        bp[j, i] = 0.5*(bp[j, i+1] + bp[j+1, i+1])/(1+rate_tree[j, i])\n",
    "\n",
    "\n",
    "bp"
   ]
  },
  {
   "cell_type": "code",
   "execution_count": 45,
   "metadata": {},
   "outputs": [
    {
     "data": {
      "text/plain": [
       "array([[0.94528707, 0.93279484, 0.9199632 , 1.        ],\n",
       "       [0.        , 0.95777929, 0.94562648, 1.        ],\n",
       "       [0.        , 0.        , 0.9699321 , 1.        ],\n",
       "       [0.        , 0.        , 0.        , 1.        ]])"
      ]
     },
     "execution_count": 45,
     "metadata": {},
     "output_type": "execute_result"
    }
   ],
   "source": [
    "for i in range(1, -1, -1):\n",
    "    for j in range(i+1):\n",
    "        bp[j, i] = 0.5*(bp[j, i+1] + bp[j+1, i+1])\n",
    "\n",
    "\n",
    "bp"
   ]
  },
  {
   "cell_type": "code",
   "execution_count": 68,
   "metadata": {},
   "outputs": [
    {
     "data": {
      "text/plain": [
       "-0.8615327586206875"
      ]
     },
     "execution_count": 68,
     "metadata": {},
     "output_type": "execute_result"
    }
   ],
   "source": [
    "(0.93279484 - 0.95777929)/0.029"
   ]
  },
  {
   "cell_type": "code",
   "execution_count": null,
   "metadata": {},
   "outputs": [],
   "source": []
  }
 ],
 "metadata": {
  "kernelspec": {
   "display_name": ".venv",
   "language": "python",
   "name": "python3"
  },
  "language_info": {
   "codemirror_mode": {
    "name": "ipython",
    "version": 3
   },
   "file_extension": ".py",
   "mimetype": "text/x-python",
   "name": "python",
   "nbconvert_exporter": "python",
   "pygments_lexer": "ipython3",
   "version": "3.12.2"
  }
 },
 "nbformat": 4,
 "nbformat_minor": 2
}
